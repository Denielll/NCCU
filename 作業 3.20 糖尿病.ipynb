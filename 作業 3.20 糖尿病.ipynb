{
 "cells": [
  {
   "cell_type": "code",
   "execution_count": 1,
   "metadata": {
    "collapsed": false
   },
   "outputs": [],
   "source": [
    "%matplotlib inline \n",
    "import numpy as np\n",
    "import matplotlib.pyplot as plt "
   ]
  },
  {
   "cell_type": "code",
   "execution_count": 2,
   "metadata": {
    "collapsed": false
   },
   "outputs": [],
   "source": [
    "import pandas as pd"
   ]
  },
  {
   "cell_type": "code",
   "execution_count": 3,
   "metadata": {
    "collapsed": false
   },
   "outputs": [],
   "source": [
    "from sklearn.cross_validation import train_test_split"
   ]
  },
  {
   "cell_type": "code",
   "execution_count": null,
   "metadata": {
    "collapsed": true
   },
   "outputs": [],
   "source": []
  },
  {
   "cell_type": "markdown",
   "metadata": {},
   "source": [
    " # 輸入 Diabetes資料"
   ]
  },
  {
   "cell_type": "code",
   "execution_count": 4,
   "metadata": {
    "collapsed": true
   },
   "outputs": [],
   "source": [
    "d = pd.read_excel(\"HW_Diabetes.xlsx\")"
   ]
  },
  {
   "cell_type": "code",
   "execution_count": 5,
   "metadata": {
    "collapsed": true
   },
   "outputs": [],
   "source": [
    "x = d.drop(\"Diabetes\",1)\n",
    "y = d[\"Diabetes\"]"
   ]
  },
  {
   "cell_type": "code",
   "execution_count": 6,
   "metadata": {
    "collapsed": true
   },
   "outputs": [],
   "source": [
    "x0_train, x0_test, y0_train, y0_test = train_test_split(x, y, test_size=0.4, random_state=101)  # 可直接對DataFrame做分割"
   ]
  },
  {
   "cell_type": "code",
   "execution_count": 7,
   "metadata": {
    "collapsed": true
   },
   "outputs": [],
   "source": [
    "x0_train = np.array(x0_train)\n",
    "x0_test = np.array(x0_test)\n",
    "y0_train = np.array(y0_train)\n",
    "y0_test = np.array(y0_test)\n"
   ]
  },
  {
   "cell_type": "markdown",
   "metadata": {},
   "source": [
    " # 改變y形狀  改變方法比較不一樣"
   ]
  },
  {
   "cell_type": "code",
   "execution_count": 8,
   "metadata": {
    "collapsed": false
   },
   "outputs": [
    {
     "name": "stderr",
     "output_type": "stream",
     "text": [
      "Using TensorFlow backend.\n"
     ]
    }
   ],
   "source": [
    "from keras.utils import np_utils"
   ]
  },
  {
   "cell_type": "code",
   "execution_count": 9,
   "metadata": {
    "collapsed": false
   },
   "outputs": [],
   "source": [
    "y0_train = np_utils.to_categorical(y0_train,2)"
   ]
  },
  {
   "cell_type": "code",
   "execution_count": 10,
   "metadata": {
    "collapsed": true
   },
   "outputs": [],
   "source": [
    "y0_test = np_utils.to_categorical(y0_test,2)"
   ]
  },
  {
   "cell_type": "markdown",
   "metadata": {},
   "source": [
    " # 開始"
   ]
  },
  {
   "cell_type": "code",
   "execution_count": 11,
   "metadata": {
    "collapsed": true
   },
   "outputs": [],
   "source": [
    "from keras.models import Sequential\n",
    "from keras.layers import Dense, Activation  #Dense就是神經元密度\n",
    "from keras.optimizers import SGD"
   ]
  },
  {
   "cell_type": "code",
   "execution_count": 12,
   "metadata": {
    "collapsed": true
   },
   "outputs": [],
   "source": [
    "model = Sequential()"
   ]
  },
  {
   "cell_type": "code",
   "execution_count": 13,
   "metadata": {
    "collapsed": false
   },
   "outputs": [],
   "source": [
    "model.add(Dense(units=500, input_dim=8)) # 第一層 input_dim一定要設定，就是向量數\n",
    "model.add(Activation('sigmoid'))"
   ]
  },
  {
   "cell_type": "code",
   "execution_count": 14,
   "metadata": {
    "collapsed": true
   },
   "outputs": [],
   "source": [
    "model.add(Dense(units=500))\n",
    "model.add(Activation('relu'))"
   ]
  },
  {
   "cell_type": "code",
   "execution_count": 15,
   "metadata": {
    "collapsed": true
   },
   "outputs": [],
   "source": [
    "model.add(Dense(units=500))\n",
    "model.add(Activation('relu'))"
   ]
  },
  {
   "cell_type": "code",
   "execution_count": 16,
   "metadata": {
    "collapsed": true
   },
   "outputs": [],
   "source": [
    "model.add(Dense(units=500))\n",
    "model.add(Activation('relu'))"
   ]
  },
  {
   "cell_type": "code",
   "execution_count": 17,
   "metadata": {
    "collapsed": true
   },
   "outputs": [],
   "source": [
    "model.add(Dense(units=2))  #輸出是2  [?,?] \n",
    "model.add(Activation('softmax'))   # 重要！！！softmax輸出的值，10個數字，加起來要等於1"
   ]
  },
  {
   "cell_type": "code",
   "execution_count": 18,
   "metadata": {
    "collapsed": true
   },
   "outputs": [],
   "source": [
    "model.compile(loss='mse', optimizer=SGD(lr=0.15), metrics=['accuracy'])  #把上面的零件組裝起來，好興奮啊   lr是learning rate\n"
   ]
  },
  {
   "cell_type": "code",
   "execution_count": 22,
   "metadata": {
    "collapsed": false,
    "scrolled": true
   },
   "outputs": [
    {
     "name": "stdout",
     "output_type": "stream",
     "text": [
      "Epoch 1/40\n",
      "460/460 [==============================] - 0s - loss: 0.1530 - acc: 0.7826     \n",
      "Epoch 2/40\n",
      "460/460 [==============================] - 0s - loss: 0.1510 - acc: 0.7783     \n",
      "Epoch 3/40\n",
      "460/460 [==============================] - 0s - loss: 0.1580 - acc: 0.7761     \n",
      "Epoch 4/40\n",
      "460/460 [==============================] - 0s - loss: 0.1492 - acc: 0.7957     \n",
      "Epoch 5/40\n",
      "460/460 [==============================] - 0s - loss: 0.1529 - acc: 0.7891     \n",
      "Epoch 6/40\n",
      "460/460 [==============================] - 0s - loss: 0.1591 - acc: 0.7717     \n",
      "Epoch 7/40\n",
      "460/460 [==============================] - 0s - loss: 0.1503 - acc: 0.7761     \n",
      "Epoch 8/40\n",
      "460/460 [==============================] - 0s - loss: 0.1522 - acc: 0.7870     \n",
      "Epoch 9/40\n",
      "460/460 [==============================] - 0s - loss: 0.1481 - acc: 0.7978     \n",
      "Epoch 10/40\n",
      "460/460 [==============================] - 0s - loss: 0.1522 - acc: 0.7891     \n",
      "Epoch 11/40\n",
      "460/460 [==============================] - 0s - loss: 0.1556 - acc: 0.7674     \n",
      "Epoch 12/40\n",
      "460/460 [==============================] - 0s - loss: 0.1449 - acc: 0.8022     \n",
      "Epoch 13/40\n",
      "460/460 [==============================] - 0s - loss: 0.1454 - acc: 0.7957     \n",
      "Epoch 14/40\n",
      "460/460 [==============================] - 0s - loss: 0.1526 - acc: 0.7891     \n",
      "Epoch 15/40\n",
      "460/460 [==============================] - 0s - loss: 0.1580 - acc: 0.7739     \n",
      "Epoch 16/40\n",
      "460/460 [==============================] - 0s - loss: 0.1766 - acc: 0.7370     \n",
      "Epoch 17/40\n",
      "460/460 [==============================] - 0s - loss: 0.1601 - acc: 0.7696     \n",
      "Epoch 18/40\n",
      "460/460 [==============================] - 0s - loss: 0.1664 - acc: 0.7478     \n",
      "Epoch 19/40\n",
      "460/460 [==============================] - 0s - loss: 0.1660 - acc: 0.7565     \n",
      "Epoch 20/40\n",
      "460/460 [==============================] - 0s - loss: 0.1529 - acc: 0.7739     \n",
      "Epoch 21/40\n",
      "460/460 [==============================] - 0s - loss: 0.1439 - acc: 0.7870     \n",
      "Epoch 22/40\n",
      "460/460 [==============================] - 0s - loss: 0.1505 - acc: 0.7957     \n",
      "Epoch 23/40\n",
      "460/460 [==============================] - 0s - loss: 0.1829 - acc: 0.7022     \n",
      "Epoch 24/40\n",
      "460/460 [==============================] - 0s - loss: 0.1579 - acc: 0.7696     \n",
      "Epoch 25/40\n",
      "460/460 [==============================] - 0s - loss: 0.1430 - acc: 0.7935     \n",
      "Epoch 26/40\n",
      "460/460 [==============================] - 0s - loss: 0.1503 - acc: 0.7913     \n",
      "Epoch 27/40\n",
      "460/460 [==============================] - 0s - loss: 0.1613 - acc: 0.7609     \n",
      "Epoch 28/40\n",
      "460/460 [==============================] - 0s - loss: 0.1455 - acc: 0.7913     \n",
      "Epoch 29/40\n",
      "460/460 [==============================] - 0s - loss: 0.1457 - acc: 0.7761     \n",
      "Epoch 30/40\n",
      "460/460 [==============================] - 0s - loss: 0.1506 - acc: 0.7804     \n",
      "Epoch 31/40\n",
      "460/460 [==============================] - 0s - loss: 0.1715 - acc: 0.7478     \n",
      "Epoch 32/40\n",
      "460/460 [==============================] - 0s - loss: 0.1617 - acc: 0.7761     \n",
      "Epoch 33/40\n",
      "460/460 [==============================] - 0s - loss: 0.1493 - acc: 0.8000     \n",
      "Epoch 34/40\n",
      "460/460 [==============================] - 0s - loss: 0.1627 - acc: 0.7565     \n",
      "Epoch 35/40\n",
      "460/460 [==============================] - 0s - loss: 0.1534 - acc: 0.7804     \n",
      "Epoch 36/40\n",
      "460/460 [==============================] - 0s - loss: 0.1426 - acc: 0.8087     \n",
      "Epoch 37/40\n",
      "460/460 [==============================] - 0s - loss: 0.1424 - acc: 0.8000     \n",
      "Epoch 38/40\n",
      "460/460 [==============================] - 0s - loss: 0.1429 - acc: 0.8130     \n",
      "Epoch 39/40\n",
      "460/460 [==============================] - 0s - loss: 0.1747 - acc: 0.7565     \n",
      "Epoch 40/40\n",
      "460/460 [==============================] - 0s - loss: 0.1624 - acc: 0.7674     \n"
     ]
    },
    {
     "data": {
      "text/plain": [
       "<keras.callbacks.History at 0x11f9ef6d8>"
      ]
     },
     "execution_count": 22,
     "metadata": {},
     "output_type": "execute_result"
    }
   ],
   "source": [
    "model.fit(x0_train, y0_train, batch_size=260, epochs=40) # batch size：看到100個資料就調整一次參數"
   ]
  },
  {
   "cell_type": "code",
   "execution_count": null,
   "metadata": {
    "collapsed": true
   },
   "outputs": [],
   "source": []
  },
  {
   "cell_type": "code",
   "execution_count": null,
   "metadata": {
    "collapsed": true
   },
   "outputs": [],
   "source": []
  },
  {
   "cell_type": "code",
   "execution_count": 26,
   "metadata": {
    "collapsed": true
   },
   "outputs": [],
   "source": [
    "from ipywidgets import interact_manual\n"
   ]
  },
  {
   "cell_type": "code",
   "execution_count": 24,
   "metadata": {
    "collapsed": false
   },
   "outputs": [
    {
     "name": "stdout",
     "output_type": "stream",
     "text": [
      "288/308 [===========================>..] - ETA: 0s"
     ]
    }
   ],
   "source": [
    "result = model.predict_classes(x0_test)"
   ]
  },
  {
   "cell_type": "code",
   "execution_count": 35,
   "metadata": {
    "collapsed": true
   },
   "outputs": [],
   "source": [
    "def 辨識(測試編號):\n",
    "    print(\"神經網路判斷為:\", result[測試編號])\n",
    "    print(y0_test[測試編號])"
   ]
  },
  {
   "cell_type": "code",
   "execution_count": 39,
   "metadata": {
    "collapsed": false
   },
   "outputs": [
    {
     "name": "stdout",
     "output_type": "stream",
     "text": [
      "神經網路判斷為: 1\n",
      "[ 0.  1.]\n"
     ]
    }
   ],
   "source": [
    "interact_manual(辨識, 測試編號 = (0,308))"
   ]
  },
  {
   "cell_type": "code",
   "execution_count": null,
   "metadata": {
    "collapsed": true
   },
   "outputs": [],
   "source": []
  }
 ],
 "metadata": {
  "kernelspec": {
   "display_name": "Python 3",
   "language": "python",
   "name": "python3"
  },
  "language_info": {
   "codemirror_mode": {
    "name": "ipython",
    "version": 3
   },
   "file_extension": ".py",
   "mimetype": "text/x-python",
   "name": "python",
   "nbconvert_exporter": "python",
   "pygments_lexer": "ipython3",
   "version": "3.5.2"
  }
 },
 "nbformat": 4,
 "nbformat_minor": 0
}
