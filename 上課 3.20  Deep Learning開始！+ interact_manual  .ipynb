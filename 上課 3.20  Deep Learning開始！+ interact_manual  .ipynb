{
 "cells": [
  {
   "cell_type": "code",
   "execution_count": 1,
   "metadata": {
    "collapsed": false
   },
   "outputs": [],
   "source": [
    "%matplotlib inline \n",
    "import numpy as np\n",
    "import matplotlib.pyplot as plt "
   ]
  },
  {
   "cell_type": "markdown",
   "metadata": {},
   "source": [
    " # MINIST"
   ]
  },
  {
   "cell_type": "code",
   "execution_count": 2,
   "metadata": {
    "collapsed": false
   },
   "outputs": [
    {
     "name": "stderr",
     "output_type": "stream",
     "text": [
      "Using TensorFlow backend.\n"
     ]
    }
   ],
   "source": [
    "from keras.datasets import mnist # Tensorflow backend"
   ]
  },
  {
   "cell_type": "code",
   "execution_count": 3,
   "metadata": {
    "collapsed": true
   },
   "outputs": [],
   "source": [
    "(x0_train,y0_train),(x0_test,y0_test) = mnist.load_data() # 已經把 train test分開了！"
   ]
  },
  {
   "cell_type": "code",
   "execution_count": 4,
   "metadata": {
    "collapsed": false
   },
   "outputs": [
    {
     "data": {
      "text/plain": [
       "8"
      ]
     },
     "execution_count": 4,
     "metadata": {},
     "output_type": "execute_result"
    }
   ],
   "source": [
    "y0_train[59999]  # 255全黑 0全白"
   ]
  },
  {
   "cell_type": "code",
   "execution_count": 5,
   "metadata": {
    "collapsed": false
   },
   "outputs": [
    {
     "data": {
      "text/plain": [
       "<matplotlib.image.AxesImage at 0x110c9ec88>"
      ]
     },
     "execution_count": 5,
     "metadata": {},
     "output_type": "execute_result"
    },
    {
     "data": {
      "image/png": "[encoded data removed]",
      "text/plain": [
       "<matplotlib.figure.Figure at 0x110c62c18>"
      ]
     },
     "metadata": {},
     "output_type": "display_data"
    }
   ],
   "source": [
    "plt.imshow(x0_train[59999],cmap=\"Greys\")"
   ]
  },
  {
   "cell_type": "markdown",
   "metadata": {},
   "source": [
    " #  改變x形狀"
   ]
  },
  {
   "cell_type": "markdown",
   "metadata": {},
   "source": [
    " ### 要改變，因為輸入要變成向量，不是矩陣"
   ]
  },
  {
   "cell_type": "code",
   "execution_count": 6,
   "metadata": {
    "collapsed": false
   },
   "outputs": [
    {
     "data": {
      "text/plain": [
       "(60000, 28, 28)"
      ]
     },
     "execution_count": 6,
     "metadata": {},
     "output_type": "execute_result"
    }
   ],
   "source": [
    "x0_train.shape #有六萬筆，每筆都是28*28      矩陣變成向量"
   ]
  },
  {
   "cell_type": "code",
   "execution_count": 7,
   "metadata": {
    "collapsed": true
   },
   "outputs": [],
   "source": [
    "x_train = x0_train.reshape(60000,28*28) #變成28*28列"
   ]
  },
  {
   "cell_type": "code",
   "execution_count": 8,
   "metadata": {
    "collapsed": false
   },
   "outputs": [],
   "source": [
    "x_test = x0_test.reshape(10000,28*28)"
   ]
  },
  {
   "cell_type": "markdown",
   "metadata": {},
   "source": [
    " # 改變y形狀  改變方法比較不一樣"
   ]
  },
  {
   "cell_type": "code",
   "execution_count": 9,
   "metadata": {
    "collapsed": false
   },
   "outputs": [
    {
     "data": {
      "text/plain": [
       "2"
      ]
     },
     "execution_count": 9,
     "metadata": {},
     "output_type": "execute_result"
    }
   ],
   "source": [
    "y0_train[42323]  # 想把它改成 [0,0,1,0,0,0,0,0,0,0]，變成 10列"
   ]
  },
  {
   "cell_type": "code",
   "execution_count": 10,
   "metadata": {
    "collapsed": true
   },
   "outputs": [],
   "source": [
    "from keras.utils import np_utils"
   ]
  },
  {
   "cell_type": "code",
   "execution_count": 11,
   "metadata": {
    "collapsed": false
   },
   "outputs": [],
   "source": [
    "y_train = np_utils.to_categorical(y0_train,10)"
   ]
  },
  {
   "cell_type": "code",
   "execution_count": 12,
   "metadata": {
    "collapsed": true
   },
   "outputs": [],
   "source": [
    "y_test = np_utils.to_categorical(y0_test,10)"
   ]
  },
  {
   "cell_type": "markdown",
   "metadata": {},
   "source": [
    " # 開始"
   ]
  },
  {
   "cell_type": "code",
   "execution_count": 13,
   "metadata": {
    "collapsed": true
   },
   "outputs": [],
   "source": [
    "from keras.models import Sequential\n",
    "from keras.layers import Dense, Activation  #Dense就是神經元密度\n",
    "from keras.optimizers import SGD"
   ]
  },
  {
   "cell_type": "code",
   "execution_count": 14,
   "metadata": {
    "collapsed": true
   },
   "outputs": [],
   "source": [
    "model = Sequential()"
   ]
  },
  {
   "cell_type": "code",
   "execution_count": 15,
   "metadata": {
    "collapsed": false
   },
   "outputs": [],
   "source": [
    "model.add(Dense(units=500, input_dim=784)) # 第一層 input_dim一定要設定，就是向量數\n",
    "model.add(Activation('sigmoid'))"
   ]
  },
  {
   "cell_type": "code",
   "execution_count": 16,
   "metadata": {
    "collapsed": true
   },
   "outputs": [],
   "source": [
    "model.add(Dense(units=500))  # units就是神經元數量\n",
    "model.add(Activation('relu'))"
   ]
  },
  {
   "cell_type": "code",
   "execution_count": 17,
   "metadata": {
    "collapsed": true
   },
   "outputs": [],
   "source": [
    "model.add(Dense(units=500))\n",
    "model.add(Activation('relu'))"
   ]
  },
  {
   "cell_type": "code",
   "execution_count": 18,
   "metadata": {
    "collapsed": true
   },
   "outputs": [],
   "source": [
    "model.add(Dense(units=10))  #輸出是10 !\n",
    "model.add(Activation('softmax'))   # 重要！！！softmax輸出的值，10個數字，加起來要等於1"
   ]
  },
  {
   "cell_type": "code",
   "execution_count": 19,
   "metadata": {
    "collapsed": true
   },
   "outputs": [],
   "source": [
    "model.compile(loss='mse', optimizer=SGD(lr=0.1), metrics=['accuracy'])  #把上面的零件組裝起來，好興奮啊   lr是learning rate\n"
   ]
  },
  {
   "cell_type": "code",
   "execution_count": 20,
   "metadata": {
    "collapsed": false,
    "scrolled": true
   },
   "outputs": [
    {
     "name": "stdout",
     "output_type": "stream",
     "text": [
      "Epoch 1/20\n",
      "60000/60000 [==============================] - 17s - loss: 0.0493 - acc: 0.6785    \n",
      "Epoch 2/20\n",
      "60000/60000 [==============================] - 17s - loss: 0.0183 - acc: 0.8881    \n",
      "Epoch 3/20\n",
      "60000/60000 [==============================] - 17s - loss: 0.0139 - acc: 0.9138    \n",
      "Epoch 4/20\n",
      "60000/60000 [==============================] - 18s - loss: 0.0117 - acc: 0.9274    \n",
      "Epoch 5/20\n",
      "60000/60000 [==============================] - 16s - loss: 0.0103 - acc: 0.9349    \n",
      "Epoch 6/20\n",
      "60000/60000 [==============================] - 16s - loss: 0.0094 - acc: 0.9412    \n",
      "Epoch 7/20\n",
      "60000/60000 [==============================] - 16s - loss: 0.0086 - acc: 0.9469    \n",
      "Epoch 8/20\n",
      "60000/60000 [==============================] - 17s - loss: 0.0078 - acc: 0.9520    \n",
      "Epoch 9/20\n",
      "60000/60000 [==============================] - 17s - loss: 0.0073 - acc: 0.9556    \n",
      "Epoch 10/20\n",
      "60000/60000 [==============================] - 17s - loss: 0.0067 - acc: 0.9590    \n",
      "Epoch 11/20\n",
      "60000/60000 [==============================] - 16s - loss: 0.0063 - acc: 0.9619    \n",
      "Epoch 12/20\n",
      "60000/60000 [==============================] - 18s - loss: 0.0060 - acc: 0.9645    \n",
      "Epoch 13/20\n",
      "60000/60000 [==============================] - 19s - loss: 0.0056 - acc: 0.9667    \n",
      "Epoch 14/20\n",
      "60000/60000 [==============================] - 18s - loss: 0.0053 - acc: 0.9692    \n",
      "Epoch 15/20\n",
      "60000/60000 [==============================] - 18s - loss: 0.0049 - acc: 0.9711    \n",
      "Epoch 16/20\n",
      "60000/60000 [==============================] - 17s - loss: 0.0046 - acc: 0.9741    \n",
      "Epoch 17/20\n",
      "60000/60000 [==============================] - 19s - loss: 0.0044 - acc: 0.9755    \n",
      "Epoch 18/20\n",
      "60000/60000 [==============================] - 19s - loss: 0.0041 - acc: 0.9766    \n",
      "Epoch 19/20\n",
      "60000/60000 [==============================] - 16s - loss: 0.0039 - acc: 0.9781    \n",
      "Epoch 20/20\n",
      "60000/60000 [==============================] - 16s - loss: 0.0036 - acc: 0.9803    \n"
     ]
    },
    {
     "data": {
      "text/plain": [
       "<keras.callbacks.History at 0x114bc85f8>"
      ]
     },
     "execution_count": 20,
     "metadata": {},
     "output_type": "execute_result"
    }
   ],
   "source": [
    "model.fit(x_train, y_train, batch_size=100, epochs=20) # batch size：看到100個資料就調整一次參數"
   ]
  },
  {
   "cell_type": "code",
   "execution_count": 21,
   "metadata": {
    "collapsed": true
   },
   "outputs": [],
   "source": [
    "from ipywidgets import interact_manual\n"
   ]
  },
  {
   "cell_type": "code",
   "execution_count": 22,
   "metadata": {
    "collapsed": false
   },
   "outputs": [
    {
     "name": "stdout",
     "output_type": "stream",
     "text": [
      " 9952/10000 [============================>.] - ETA: 0s"
     ]
    }
   ],
   "source": [
    "result = model.predict_classes(x_test)"
   ]
  },
  {
   "cell_type": "code",
   "execution_count": 24,
   "metadata": {
    "collapsed": true
   },
   "outputs": [],
   "source": [
    "def 辨識(測試編號):\n",
    "    plt.imshow(x0_test[測試編號], cmap=\"Greys\")\n",
    "    print(\"神經網路判斷為:\", result[測試編號])"
   ]
  },
  {
   "cell_type": "code",
   "execution_count": 25,
   "metadata": {
    "collapsed": false
   },
   "outputs": [
    {
     "name": "stdout",
     "output_type": "stream",
     "text": [
      "神經網路判斷為: 0\n"
     ]
    },
    {
     "data": {
      "image/png": "[encoded data removed]",
      "text/plain": [
       "<matplotlib.figure.Figure at 0x114d672e8>"
      ]
     },
     "metadata": {},
     "output_type": "display_data"
    }
   ],
   "source": [
    "interact_manual(辨識, 測試編號 = (0, 9999))"
   ]
  },
  {
   "cell_type": "code",
   "execution_count": null,
   "metadata": {
    "collapsed": true
   },
   "outputs": [],
   "source": []
  }
 ],
 "metadata": {
  "kernelspec": {
   "display_name": "Python 3",
   "language": "python",
   "name": "python3"
  },
  "language_info": {
   "codemirror_mode": {
    "name": "ipython",
    "version": 3
   },
   "file_extension": ".py",
   "mimetype": "text/x-python",
   "name": "python",
   "nbconvert_exporter": "python",
   "pygments_lexer": "ipython3",
   "version": "3.5.2"
  }
 },
 "nbformat": 4,
 "nbformat_minor": 0
}
