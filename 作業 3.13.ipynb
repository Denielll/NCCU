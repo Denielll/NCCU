{
 "cells": [
  {
   "cell_type": "code",
   "execution_count": 1,
   "metadata": {
    "collapsed": true
   },
   "outputs": [],
   "source": [
    "import pandas as pd\n",
    "import numpy as np\n",
    "%matplotlib inline \n",
    "import matplotlib.pyplot as plt "
   ]
  },
  {
   "cell_type": "code",
   "execution_count": 2,
   "metadata": {
    "collapsed": true
   },
   "outputs": [],
   "source": [
    "from sklearn.datasets import load_iris"
   ]
  },
  {
   "cell_type": "code",
   "execution_count": 4,
   "metadata": {
    "collapsed": true
   },
   "outputs": [],
   "source": [
    "iris = load_iris()"
   ]
  },
  {
   "cell_type": "code",
   "execution_count": 10,
   "metadata": {
    "collapsed": false
   },
   "outputs": [
    {
     "data": {
      "text/plain": [
       "array([[ 5.1,  3.5,  1.4,  0.2],\n",
       "       [ 4.9,  3. ,  1.4,  0.2],\n",
       "       [ 4.7,  3.2,  1.3,  0.2],\n",
       "       [ 4.6,  3.1,  1.5,  0.2],\n",
       "       [ 5. ,  3.6,  1.4,  0.2],\n",
       "       [ 5.4,  3.9,  1.7,  0.4],\n",
       "       [ 4.6,  3.4,  1.4,  0.3],\n",
       "       [ 5. ,  3.4,  1.5,  0.2],\n",
       "       [ 4.4,  2.9,  1.4,  0.2],\n",
       "       [ 4.9,  3.1,  1.5,  0.1],\n",
       "       [ 5.4,  3.7,  1.5,  0.2],\n",
       "       [ 4.8,  3.4,  1.6,  0.2],\n",
       "       [ 4.8,  3. ,  1.4,  0.1],\n",
       "       [ 4.3,  3. ,  1.1,  0.1],\n",
       "       [ 5.8,  4. ,  1.2,  0.2],\n",
       "       [ 5.7,  4.4,  1.5,  0.4],\n",
       "       [ 5.4,  3.9,  1.3,  0.4],\n",
       "       [ 5.1,  3.5,  1.4,  0.3],\n",
       "       [ 5.7,  3.8,  1.7,  0.3],\n",
       "       [ 5.1,  3.8,  1.5,  0.3],\n",
       "       [ 5.4,  3.4,  1.7,  0.2],\n",
       "       [ 5.1,  3.7,  1.5,  0.4],\n",
       "       [ 4.6,  3.6,  1. ,  0.2],\n",
       "       [ 5.1,  3.3,  1.7,  0.5],\n",
       "       [ 4.8,  3.4,  1.9,  0.2],\n",
       "       [ 5. ,  3. ,  1.6,  0.2],\n",
       "       [ 5. ,  3.4,  1.6,  0.4],\n",
       "       [ 5.2,  3.5,  1.5,  0.2],\n",
       "       [ 5.2,  3.4,  1.4,  0.2],\n",
       "       [ 4.7,  3.2,  1.6,  0.2],\n",
       "       [ 4.8,  3.1,  1.6,  0.2],\n",
       "       [ 5.4,  3.4,  1.5,  0.4],\n",
       "       [ 5.2,  4.1,  1.5,  0.1],\n",
       "       [ 5.5,  4.2,  1.4,  0.2],\n",
       "       [ 4.9,  3.1,  1.5,  0.1],\n",
       "       [ 5. ,  3.2,  1.2,  0.2],\n",
       "       [ 5.5,  3.5,  1.3,  0.2],\n",
       "       [ 4.9,  3.1,  1.5,  0.1],\n",
       "       [ 4.4,  3. ,  1.3,  0.2],\n",
       "       [ 5.1,  3.4,  1.5,  0.2],\n",
       "       [ 5. ,  3.5,  1.3,  0.3],\n",
       "       [ 4.5,  2.3,  1.3,  0.3],\n",
       "       [ 4.4,  3.2,  1.3,  0.2],\n",
       "       [ 5. ,  3.5,  1.6,  0.6],\n",
       "       [ 5.1,  3.8,  1.9,  0.4],\n",
       "       [ 4.8,  3. ,  1.4,  0.3],\n",
       "       [ 5.1,  3.8,  1.6,  0.2],\n",
       "       [ 4.6,  3.2,  1.4,  0.2],\n",
       "       [ 5.3,  3.7,  1.5,  0.2],\n",
       "       [ 5. ,  3.3,  1.4,  0.2],\n",
       "       [ 7. ,  3.2,  4.7,  1.4],\n",
       "       [ 6.4,  3.2,  4.5,  1.5],\n",
       "       [ 6.9,  3.1,  4.9,  1.5],\n",
       "       [ 5.5,  2.3,  4. ,  1.3],\n",
       "       [ 6.5,  2.8,  4.6,  1.5],\n",
       "       [ 5.7,  2.8,  4.5,  1.3],\n",
       "       [ 6.3,  3.3,  4.7,  1.6],\n",
       "       [ 4.9,  2.4,  3.3,  1. ],\n",
       "       [ 6.6,  2.9,  4.6,  1.3],\n",
       "       [ 5.2,  2.7,  3.9,  1.4],\n",
       "       [ 5. ,  2. ,  3.5,  1. ],\n",
       "       [ 5.9,  3. ,  4.2,  1.5],\n",
       "       [ 6. ,  2.2,  4. ,  1. ],\n",
       "       [ 6.1,  2.9,  4.7,  1.4],\n",
       "       [ 5.6,  2.9,  3.6,  1.3],\n",
       "       [ 6.7,  3.1,  4.4,  1.4],\n",
       "       [ 5.6,  3. ,  4.5,  1.5],\n",
       "       [ 5.8,  2.7,  4.1,  1. ],\n",
       "       [ 6.2,  2.2,  4.5,  1.5],\n",
       "       [ 5.6,  2.5,  3.9,  1.1],\n",
       "       [ 5.9,  3.2,  4.8,  1.8],\n",
       "       [ 6.1,  2.8,  4. ,  1.3],\n",
       "       [ 6.3,  2.5,  4.9,  1.5],\n",
       "       [ 6.1,  2.8,  4.7,  1.2],\n",
       "       [ 6.4,  2.9,  4.3,  1.3],\n",
       "       [ 6.6,  3. ,  4.4,  1.4],\n",
       "       [ 6.8,  2.8,  4.8,  1.4],\n",
       "       [ 6.7,  3. ,  5. ,  1.7],\n",
       "       [ 6. ,  2.9,  4.5,  1.5],\n",
       "       [ 5.7,  2.6,  3.5,  1. ],\n",
       "       [ 5.5,  2.4,  3.8,  1.1],\n",
       "       [ 5.5,  2.4,  3.7,  1. ],\n",
       "       [ 5.8,  2.7,  3.9,  1.2],\n",
       "       [ 6. ,  2.7,  5.1,  1.6],\n",
       "       [ 5.4,  3. ,  4.5,  1.5],\n",
       "       [ 6. ,  3.4,  4.5,  1.6],\n",
       "       [ 6.7,  3.1,  4.7,  1.5],\n",
       "       [ 6.3,  2.3,  4.4,  1.3],\n",
       "       [ 5.6,  3. ,  4.1,  1.3],\n",
       "       [ 5.5,  2.5,  4. ,  1.3],\n",
       "       [ 5.5,  2.6,  4.4,  1.2],\n",
       "       [ 6.1,  3. ,  4.6,  1.4],\n",
       "       [ 5.8,  2.6,  4. ,  1.2],\n",
       "       [ 5. ,  2.3,  3.3,  1. ],\n",
       "       [ 5.6,  2.7,  4.2,  1.3],\n",
       "       [ 5.7,  3. ,  4.2,  1.2],\n",
       "       [ 5.7,  2.9,  4.2,  1.3],\n",
       "       [ 6.2,  2.9,  4.3,  1.3],\n",
       "       [ 5.1,  2.5,  3. ,  1.1],\n",
       "       [ 5.7,  2.8,  4.1,  1.3],\n",
       "       [ 6.3,  3.3,  6. ,  2.5],\n",
       "       [ 5.8,  2.7,  5.1,  1.9],\n",
       "       [ 7.1,  3. ,  5.9,  2.1],\n",
       "       [ 6.3,  2.9,  5.6,  1.8],\n",
       "       [ 6.5,  3. ,  5.8,  2.2],\n",
       "       [ 7.6,  3. ,  6.6,  2.1],\n",
       "       [ 4.9,  2.5,  4.5,  1.7],\n",
       "       [ 7.3,  2.9,  6.3,  1.8],\n",
       "       [ 6.7,  2.5,  5.8,  1.8],\n",
       "       [ 7.2,  3.6,  6.1,  2.5],\n",
       "       [ 6.5,  3.2,  5.1,  2. ],\n",
       "       [ 6.4,  2.7,  5.3,  1.9],\n",
       "       [ 6.8,  3. ,  5.5,  2.1],\n",
       "       [ 5.7,  2.5,  5. ,  2. ],\n",
       "       [ 5.8,  2.8,  5.1,  2.4],\n",
       "       [ 6.4,  3.2,  5.3,  2.3],\n",
       "       [ 6.5,  3. ,  5.5,  1.8],\n",
       "       [ 7.7,  3.8,  6.7,  2.2],\n",
       "       [ 7.7,  2.6,  6.9,  2.3],\n",
       "       [ 6. ,  2.2,  5. ,  1.5],\n",
       "       [ 6.9,  3.2,  5.7,  2.3],\n",
       "       [ 5.6,  2.8,  4.9,  2. ],\n",
       "       [ 7.7,  2.8,  6.7,  2. ],\n",
       "       [ 6.3,  2.7,  4.9,  1.8],\n",
       "       [ 6.7,  3.3,  5.7,  2.1],\n",
       "       [ 7.2,  3.2,  6. ,  1.8],\n",
       "       [ 6.2,  2.8,  4.8,  1.8],\n",
       "       [ 6.1,  3. ,  4.9,  1.8],\n",
       "       [ 6.4,  2.8,  5.6,  2.1],\n",
       "       [ 7.2,  3. ,  5.8,  1.6],\n",
       "       [ 7.4,  2.8,  6.1,  1.9],\n",
       "       [ 7.9,  3.8,  6.4,  2. ],\n",
       "       [ 6.4,  2.8,  5.6,  2.2],\n",
       "       [ 6.3,  2.8,  5.1,  1.5],\n",
       "       [ 6.1,  2.6,  5.6,  1.4],\n",
       "       [ 7.7,  3. ,  6.1,  2.3],\n",
       "       [ 6.3,  3.4,  5.6,  2.4],\n",
       "       [ 6.4,  3.1,  5.5,  1.8],\n",
       "       [ 6. ,  3. ,  4.8,  1.8],\n",
       "       [ 6.9,  3.1,  5.4,  2.1],\n",
       "       [ 6.7,  3.1,  5.6,  2.4],\n",
       "       [ 6.9,  3.1,  5.1,  2.3],\n",
       "       [ 5.8,  2.7,  5.1,  1.9],\n",
       "       [ 6.8,  3.2,  5.9,  2.3],\n",
       "       [ 6.7,  3.3,  5.7,  2.5],\n",
       "       [ 6.7,  3. ,  5.2,  2.3],\n",
       "       [ 6.3,  2.5,  5. ,  1.9],\n",
       "       [ 6.5,  3. ,  5.2,  2. ],\n",
       "       [ 6.2,  3.4,  5.4,  2.3],\n",
       "       [ 5.9,  3. ,  5.1,  1.8]])"
      ]
     },
     "execution_count": 10,
     "metadata": {},
     "output_type": "execute_result"
    }
   ],
   "source": [
    "iris.data"
   ]
  },
  {
   "cell_type": "code",
   "execution_count": 11,
   "metadata": {
    "collapsed": false
   },
   "outputs": [
    {
     "data": {
      "text/plain": [
       "3.5"
      ]
     },
     "execution_count": 11,
     "metadata": {},
     "output_type": "execute_result"
    }
   ],
   "source": [
    "iris.data[0,1]"
   ]
  },
  {
   "cell_type": "code",
   "execution_count": 12,
   "metadata": {
    "collapsed": false,
    "scrolled": true
   },
   "outputs": [
    {
     "data": {
      "text/plain": [
       "array([0, 0, 0, 0, 0, 0, 0, 0, 0, 0, 0, 0, 0, 0, 0, 0, 0, 0, 0, 0, 0, 0, 0,\n",
       "       0, 0, 0, 0, 0, 0, 0, 0, 0, 0, 0, 0, 0, 0, 0, 0, 0, 0, 0, 0, 0, 0, 0,\n",
       "       0, 0, 0, 0, 1, 1, 1, 1, 1, 1, 1, 1, 1, 1, 1, 1, 1, 1, 1, 1, 1, 1, 1,\n",
       "       1, 1, 1, 1, 1, 1, 1, 1, 1, 1, 1, 1, 1, 1, 1, 1, 1, 1, 1, 1, 1, 1, 1,\n",
       "       1, 1, 1, 1, 1, 1, 1, 1, 2, 2, 2, 2, 2, 2, 2, 2, 2, 2, 2, 2, 2, 2, 2,\n",
       "       2, 2, 2, 2, 2, 2, 2, 2, 2, 2, 2, 2, 2, 2, 2, 2, 2, 2, 2, 2, 2, 2, 2,\n",
       "       2, 2, 2, 2, 2, 2, 2, 2, 2, 2, 2, 2])"
      ]
     },
     "execution_count": 12,
     "metadata": {},
     "output_type": "execute_result"
    }
   ],
   "source": [
    "iris.target # 標籤"
   ]
  },
  {
   "cell_type": "code",
   "execution_count": 16,
   "metadata": {
    "collapsed": true
   },
   "outputs": [],
   "source": [
    "x = iris.data[:,:2]   # 4個類別選2個.. 0和1，畫圖才不會成問題。其實4個也可以，但沒辦法畫圖\n",
    "y = iris.target"
   ]
  },
  {
   "cell_type": "code",
   "execution_count": 25,
   "metadata": {
    "collapsed": false
   },
   "outputs": [
    {
     "data": {
      "text/plain": [
       "array([ 3.5,  3. ,  3.2,  3.1,  3.6,  3.9,  3.4,  3.4,  2.9,  3.1,  3.7,\n",
       "        3.4,  3. ,  3. ,  4. ,  4.4,  3.9,  3.5,  3.8,  3.8,  3.4,  3.7,\n",
       "        3.6,  3.3,  3.4,  3. ,  3.4,  3.5,  3.4,  3.2,  3.1,  3.4,  4.1,\n",
       "        4.2,  3.1,  3.2,  3.5,  3.1,  3. ,  3.4,  3.5,  2.3,  3.2,  3.5,\n",
       "        3.8,  3. ,  3.8,  3.2,  3.7,  3.3,  3.2,  3.2,  3.1,  2.3,  2.8,\n",
       "        2.8,  3.3,  2.4,  2.9,  2.7,  2. ,  3. ,  2.2,  2.9,  2.9,  3.1,\n",
       "        3. ,  2.7,  2.2,  2.5,  3.2,  2.8,  2.5,  2.8,  2.9,  3. ,  2.8,\n",
       "        3. ,  2.9,  2.6,  2.4,  2.4,  2.7,  2.7,  3. ,  3.4,  3.1,  2.3,\n",
       "        3. ,  2.5,  2.6,  3. ,  2.6,  2.3,  2.7,  3. ,  2.9,  2.9,  2.5,\n",
       "        2.8,  3.3,  2.7,  3. ,  2.9,  3. ,  3. ,  2.5,  2.9,  2.5,  3.6,\n",
       "        3.2,  2.7,  3. ,  2.5,  2.8,  3.2,  3. ,  3.8,  2.6,  2.2,  3.2,\n",
       "        2.8,  2.8,  2.7,  3.3,  3.2,  2.8,  3. ,  2.8,  3. ,  2.8,  3.8,\n",
       "        2.8,  2.8,  2.6,  3. ,  3.4,  3.1,  3. ,  3.1,  3.1,  3.1,  2.7,\n",
       "        3.2,  3.3,  3. ,  2.5,  3. ,  3.4,  3. ])"
      ]
     },
     "execution_count": 25,
     "metadata": {},
     "output_type": "execute_result"
    }
   ],
   "source": [
    "x[:,1]"
   ]
  },
  {
   "cell_type": "code",
   "execution_count": 89,
   "metadata": {
    "collapsed": false
   },
   "outputs": [
    {
     "data": {
      "text/plain": [
       "<matplotlib.collections.PathCollection at 0x11a006a58>"
      ]
     },
     "execution_count": 89,
     "metadata": {},
     "output_type": "execute_result"
    },
    {
     "data": {
      "image/png": "[encoded data removed]",
      "text/plain": [
       "<matplotlib.figure.Figure at 0x118c37668>"
      ]
     },
     "metadata": {},
     "output_type": "display_data"
    }
   ],
   "source": [
    "plt.scatter(x[:,0],x[:,1],c=y,cmap=plt.cm.ocean)"
   ]
  },
  {
   "cell_type": "code",
   "execution_count": null,
   "metadata": {
    "collapsed": true
   },
   "outputs": [],
   "source": []
  },
  {
   "cell_type": "code",
   "execution_count": 52,
   "metadata": {
    "collapsed": false
   },
   "outputs": [
    {
     "data": {
      "text/plain": [
       "array([0, 0, 0, 0, 0, 0, 0, 0, 0, 0, 0, 0, 0, 0, 0, 0, 0, 0, 0, 0, 0, 0, 0,\n",
       "       0, 0, 0, 0, 0, 0, 0, 0, 0, 0, 0, 0, 0, 0, 0, 0, 0, 0, 0, 0, 0, 0, 0,\n",
       "       0, 0, 0, 0, 1, 1, 1, 1, 1, 1, 1, 1, 1, 1, 1, 1, 1, 1, 1, 1, 1, 1, 1,\n",
       "       1, 1, 1, 1, 1, 1, 1, 1, 1, 1, 1, 1, 1, 1, 1, 1, 1, 1, 1, 1, 1, 1, 1,\n",
       "       1, 1, 1, 1, 1, 1, 1, 1, 2, 2, 2, 2, 2, 2, 2, 2, 2, 2, 2, 2, 2, 2, 2,\n",
       "       2, 2, 2, 2, 2, 2, 2, 2, 2, 2, 2, 2, 2, 2, 2, 2, 2, 2, 2, 2, 2, 2, 2,\n",
       "       2, 2, 2, 2, 2, 2, 2, 2, 2, 2, 2, 2])"
      ]
     },
     "execution_count": 52,
     "metadata": {},
     "output_type": "execute_result"
    }
   ],
   "source": [
    "y"
   ]
  },
  {
   "cell_type": "code",
   "execution_count": 13,
   "metadata": {
    "collapsed": true
   },
   "outputs": [],
   "source": [
    "from sklearn.svm import SVC"
   ]
  },
  {
   "cell_type": "code",
   "execution_count": 34,
   "metadata": {
    "collapsed": true
   },
   "outputs": [],
   "source": [
    "clf = SVC()"
   ]
  },
  {
   "cell_type": "code",
   "execution_count": 35,
   "metadata": {
    "collapsed": false
   },
   "outputs": [
    {
     "data": {
      "text/plain": [
       "SVC(C=1.0, cache_size=200, class_weight=None, coef0=0.0,\n",
       "  decision_function_shape=None, degree=3, gamma='auto', kernel='rbf',\n",
       "  max_iter=-1, probability=False, random_state=None, shrinking=True,\n",
       "  tol=0.001, verbose=False)"
      ]
     },
     "execution_count": 35,
     "metadata": {},
     "output_type": "execute_result"
    }
   ],
   "source": [
    "clf.fit(x,y)"
   ]
  },
  {
   "cell_type": "code",
   "execution_count": null,
   "metadata": {
    "collapsed": true
   },
   "outputs": [],
   "source": []
  },
  {
   "cell_type": "code",
   "execution_count": 47,
   "metadata": {
    "collapsed": true
   },
   "outputs": [],
   "source": [
    "gd = np.array([(i,j) for i in np.arange(2,5,0.2) for j in np.arange(0,8,0.6)])"
   ]
  },
  {
   "cell_type": "code",
   "execution_count": 48,
   "metadata": {
    "collapsed": false
   },
   "outputs": [
    {
     "data": {
      "text/plain": [
       "array([[ 2. ,  0. ],\n",
       "       [ 2. ,  0.6],\n",
       "       [ 2. ,  1.2],\n",
       "       [ 2. ,  1.8],\n",
       "       [ 2. ,  2.4],\n",
       "       [ 2. ,  3. ],\n",
       "       [ 2. ,  3.6],\n",
       "       [ 2. ,  4.2],\n",
       "       [ 2. ,  4.8],\n",
       "       [ 2. ,  5.4],\n",
       "       [ 2. ,  6. ],\n",
       "       [ 2. ,  6.6],\n",
       "       [ 2. ,  7.2],\n",
       "       [ 2. ,  7.8],\n",
       "       [ 2.2,  0. ],\n",
       "       [ 2.2,  0.6],\n",
       "       [ 2.2,  1.2],\n",
       "       [ 2.2,  1.8],\n",
       "       [ 2.2,  2.4],\n",
       "       [ 2.2,  3. ],\n",
       "       [ 2.2,  3.6],\n",
       "       [ 2.2,  4.2],\n",
       "       [ 2.2,  4.8],\n",
       "       [ 2.2,  5.4],\n",
       "       [ 2.2,  6. ],\n",
       "       [ 2.2,  6.6],\n",
       "       [ 2.2,  7.2],\n",
       "       [ 2.2,  7.8],\n",
       "       [ 2.4,  0. ],\n",
       "       [ 2.4,  0.6],\n",
       "       [ 2.4,  1.2],\n",
       "       [ 2.4,  1.8],\n",
       "       [ 2.4,  2.4],\n",
       "       [ 2.4,  3. ],\n",
       "       [ 2.4,  3.6],\n",
       "       [ 2.4,  4.2],\n",
       "       [ 2.4,  4.8],\n",
       "       [ 2.4,  5.4],\n",
       "       [ 2.4,  6. ],\n",
       "       [ 2.4,  6.6],\n",
       "       [ 2.4,  7.2],\n",
       "       [ 2.4,  7.8],\n",
       "       [ 2.6,  0. ],\n",
       "       [ 2.6,  0.6],\n",
       "       [ 2.6,  1.2],\n",
       "       [ 2.6,  1.8],\n",
       "       [ 2.6,  2.4],\n",
       "       [ 2.6,  3. ],\n",
       "       [ 2.6,  3.6],\n",
       "       [ 2.6,  4.2],\n",
       "       [ 2.6,  4.8],\n",
       "       [ 2.6,  5.4],\n",
       "       [ 2.6,  6. ],\n",
       "       [ 2.6,  6.6],\n",
       "       [ 2.6,  7.2],\n",
       "       [ 2.6,  7.8],\n",
       "       [ 2.8,  0. ],\n",
       "       [ 2.8,  0.6],\n",
       "       [ 2.8,  1.2],\n",
       "       [ 2.8,  1.8],\n",
       "       [ 2.8,  2.4],\n",
       "       [ 2.8,  3. ],\n",
       "       [ 2.8,  3.6],\n",
       "       [ 2.8,  4.2],\n",
       "       [ 2.8,  4.8],\n",
       "       [ 2.8,  5.4],\n",
       "       [ 2.8,  6. ],\n",
       "       [ 2.8,  6.6],\n",
       "       [ 2.8,  7.2],\n",
       "       [ 2.8,  7.8],\n",
       "       [ 3. ,  0. ],\n",
       "       [ 3. ,  0.6],\n",
       "       [ 3. ,  1.2],\n",
       "       [ 3. ,  1.8],\n",
       "       [ 3. ,  2.4],\n",
       "       [ 3. ,  3. ],\n",
       "       [ 3. ,  3.6],\n",
       "       [ 3. ,  4.2],\n",
       "       [ 3. ,  4.8],\n",
       "       [ 3. ,  5.4],\n",
       "       [ 3. ,  6. ],\n",
       "       [ 3. ,  6.6],\n",
       "       [ 3. ,  7.2],\n",
       "       [ 3. ,  7.8],\n",
       "       [ 3.2,  0. ],\n",
       "       [ 3.2,  0.6],\n",
       "       [ 3.2,  1.2],\n",
       "       [ 3.2,  1.8],\n",
       "       [ 3.2,  2.4],\n",
       "       [ 3.2,  3. ],\n",
       "       [ 3.2,  3.6],\n",
       "       [ 3.2,  4.2],\n",
       "       [ 3.2,  4.8],\n",
       "       [ 3.2,  5.4],\n",
       "       [ 3.2,  6. ],\n",
       "       [ 3.2,  6.6],\n",
       "       [ 3.2,  7.2],\n",
       "       [ 3.2,  7.8],\n",
       "       [ 3.4,  0. ],\n",
       "       [ 3.4,  0.6],\n",
       "       [ 3.4,  1.2],\n",
       "       [ 3.4,  1.8],\n",
       "       [ 3.4,  2.4],\n",
       "       [ 3.4,  3. ],\n",
       "       [ 3.4,  3.6],\n",
       "       [ 3.4,  4.2],\n",
       "       [ 3.4,  4.8],\n",
       "       [ 3.4,  5.4],\n",
       "       [ 3.4,  6. ],\n",
       "       [ 3.4,  6.6],\n",
       "       [ 3.4,  7.2],\n",
       "       [ 3.4,  7.8],\n",
       "       [ 3.6,  0. ],\n",
       "       [ 3.6,  0.6],\n",
       "       [ 3.6,  1.2],\n",
       "       [ 3.6,  1.8],\n",
       "       [ 3.6,  2.4],\n",
       "       [ 3.6,  3. ],\n",
       "       [ 3.6,  3.6],\n",
       "       [ 3.6,  4.2],\n",
       "       [ 3.6,  4.8],\n",
       "       [ 3.6,  5.4],\n",
       "       [ 3.6,  6. ],\n",
       "       [ 3.6,  6.6],\n",
       "       [ 3.6,  7.2],\n",
       "       [ 3.6,  7.8],\n",
       "       [ 3.8,  0. ],\n",
       "       [ 3.8,  0.6],\n",
       "       [ 3.8,  1.2],\n",
       "       [ 3.8,  1.8],\n",
       "       [ 3.8,  2.4],\n",
       "       [ 3.8,  3. ],\n",
       "       [ 3.8,  3.6],\n",
       "       [ 3.8,  4.2],\n",
       "       [ 3.8,  4.8],\n",
       "       [ 3.8,  5.4],\n",
       "       [ 3.8,  6. ],\n",
       "       [ 3.8,  6.6],\n",
       "       [ 3.8,  7.2],\n",
       "       [ 3.8,  7.8],\n",
       "       [ 4. ,  0. ],\n",
       "       [ 4. ,  0.6],\n",
       "       [ 4. ,  1.2],\n",
       "       [ 4. ,  1.8],\n",
       "       [ 4. ,  2.4],\n",
       "       [ 4. ,  3. ],\n",
       "       [ 4. ,  3.6],\n",
       "       [ 4. ,  4.2],\n",
       "       [ 4. ,  4.8],\n",
       "       [ 4. ,  5.4],\n",
       "       [ 4. ,  6. ],\n",
       "       [ 4. ,  6.6],\n",
       "       [ 4. ,  7.2],\n",
       "       [ 4. ,  7.8],\n",
       "       [ 4.2,  0. ],\n",
       "       [ 4.2,  0.6],\n",
       "       [ 4.2,  1.2],\n",
       "       [ 4.2,  1.8],\n",
       "       [ 4.2,  2.4],\n",
       "       [ 4.2,  3. ],\n",
       "       [ 4.2,  3.6],\n",
       "       [ 4.2,  4.2],\n",
       "       [ 4.2,  4.8],\n",
       "       [ 4.2,  5.4],\n",
       "       [ 4.2,  6. ],\n",
       "       [ 4.2,  6.6],\n",
       "       [ 4.2,  7.2],\n",
       "       [ 4.2,  7.8],\n",
       "       [ 4.4,  0. ],\n",
       "       [ 4.4,  0.6],\n",
       "       [ 4.4,  1.2],\n",
       "       [ 4.4,  1.8],\n",
       "       [ 4.4,  2.4],\n",
       "       [ 4.4,  3. ],\n",
       "       [ 4.4,  3.6],\n",
       "       [ 4.4,  4.2],\n",
       "       [ 4.4,  4.8],\n",
       "       [ 4.4,  5.4],\n",
       "       [ 4.4,  6. ],\n",
       "       [ 4.4,  6.6],\n",
       "       [ 4.4,  7.2],\n",
       "       [ 4.4,  7.8],\n",
       "       [ 4.6,  0. ],\n",
       "       [ 4.6,  0.6],\n",
       "       [ 4.6,  1.2],\n",
       "       [ 4.6,  1.8],\n",
       "       [ 4.6,  2.4],\n",
       "       [ 4.6,  3. ],\n",
       "       [ 4.6,  3.6],\n",
       "       [ 4.6,  4.2],\n",
       "       [ 4.6,  4.8],\n",
       "       [ 4.6,  5.4],\n",
       "       [ 4.6,  6. ],\n",
       "       [ 4.6,  6.6],\n",
       "       [ 4.6,  7.2],\n",
       "       [ 4.6,  7.8],\n",
       "       [ 4.8,  0. ],\n",
       "       [ 4.8,  0.6],\n",
       "       [ 4.8,  1.2],\n",
       "       [ 4.8,  1.8],\n",
       "       [ 4.8,  2.4],\n",
       "       [ 4.8,  3. ],\n",
       "       [ 4.8,  3.6],\n",
       "       [ 4.8,  4.2],\n",
       "       [ 4.8,  4.8],\n",
       "       [ 4.8,  5.4],\n",
       "       [ 4.8,  6. ],\n",
       "       [ 4.8,  6.6],\n",
       "       [ 4.8,  7.2],\n",
       "       [ 4.8,  7.8]])"
      ]
     },
     "execution_count": 48,
     "metadata": {},
     "output_type": "execute_result"
    }
   ],
   "source": [
    "gd"
   ]
  },
  {
   "cell_type": "code",
   "execution_count": 90,
   "metadata": {
    "collapsed": false
   },
   "outputs": [
    {
     "data": {
      "text/plain": [
       "array([[ 2. ,  0. ],\n",
       "       [ 2. ,  0.6],\n",
       "       [ 2. ,  1.2],\n",
       "       [ 2. ,  1.8],\n",
       "       [ 2. ,  2.4],\n",
       "       [ 2. ,  3. ],\n",
       "       [ 2. ,  3.6],\n",
       "       [ 2. ,  4.2],\n",
       "       [ 2. ,  4.8],\n",
       "       [ 2. ,  5.4],\n",
       "       [ 2. ,  6. ],\n",
       "       [ 2. ,  6.6],\n",
       "       [ 2. ,  7.2],\n",
       "       [ 2. ,  7.8],\n",
       "       [ 2.2,  0. ],\n",
       "       [ 2.2,  0.6],\n",
       "       [ 2.2,  1.2],\n",
       "       [ 2.2,  1.8],\n",
       "       [ 2.2,  2.4],\n",
       "       [ 2.2,  3. ],\n",
       "       [ 2.2,  3.6],\n",
       "       [ 2.2,  4.2],\n",
       "       [ 2.2,  4.8],\n",
       "       [ 2.2,  5.4],\n",
       "       [ 2.2,  6. ],\n",
       "       [ 2.2,  6.6],\n",
       "       [ 2.2,  7.2],\n",
       "       [ 2.2,  7.8],\n",
       "       [ 2.4,  0. ],\n",
       "       [ 2.4,  0.6],\n",
       "       [ 2.4,  1.2],\n",
       "       [ 2.4,  1.8],\n",
       "       [ 2.4,  2.4],\n",
       "       [ 2.4,  3. ],\n",
       "       [ 2.4,  3.6],\n",
       "       [ 2.4,  4.2],\n",
       "       [ 2.4,  4.8],\n",
       "       [ 2.4,  5.4],\n",
       "       [ 2.4,  6. ],\n",
       "       [ 2.4,  6.6],\n",
       "       [ 2.4,  7.2],\n",
       "       [ 2.4,  7.8],\n",
       "       [ 2.6,  0. ],\n",
       "       [ 2.6,  0.6],\n",
       "       [ 2.6,  1.2],\n",
       "       [ 2.6,  1.8],\n",
       "       [ 2.6,  2.4],\n",
       "       [ 2.6,  3. ],\n",
       "       [ 2.6,  3.6],\n",
       "       [ 2.6,  4.2],\n",
       "       [ 2.6,  4.8],\n",
       "       [ 2.6,  5.4],\n",
       "       [ 2.6,  6. ],\n",
       "       [ 2.6,  6.6],\n",
       "       [ 2.6,  7.2],\n",
       "       [ 2.6,  7.8],\n",
       "       [ 2.8,  0. ],\n",
       "       [ 2.8,  0.6],\n",
       "       [ 2.8,  1.2],\n",
       "       [ 2.8,  1.8],\n",
       "       [ 2.8,  2.4],\n",
       "       [ 2.8,  3. ],\n",
       "       [ 2.8,  3.6],\n",
       "       [ 2.8,  4.2],\n",
       "       [ 2.8,  4.8],\n",
       "       [ 2.8,  5.4],\n",
       "       [ 2.8,  6. ],\n",
       "       [ 2.8,  6.6],\n",
       "       [ 2.8,  7.2],\n",
       "       [ 2.8,  7.8],\n",
       "       [ 3. ,  0. ],\n",
       "       [ 3. ,  0.6],\n",
       "       [ 3. ,  1.2],\n",
       "       [ 3. ,  1.8],\n",
       "       [ 3. ,  2.4],\n",
       "       [ 3. ,  3. ],\n",
       "       [ 3. ,  3.6],\n",
       "       [ 3. ,  4.2],\n",
       "       [ 3. ,  4.8],\n",
       "       [ 3. ,  5.4],\n",
       "       [ 3. ,  6. ],\n",
       "       [ 3. ,  6.6],\n",
       "       [ 3. ,  7.2],\n",
       "       [ 3. ,  7.8],\n",
       "       [ 3.2,  0. ],\n",
       "       [ 3.2,  0.6],\n",
       "       [ 3.2,  1.2],\n",
       "       [ 3.2,  1.8],\n",
       "       [ 3.2,  2.4],\n",
       "       [ 3.2,  3. ],\n",
       "       [ 3.2,  3.6],\n",
       "       [ 3.2,  4.2],\n",
       "       [ 3.2,  4.8],\n",
       "       [ 3.2,  5.4],\n",
       "       [ 3.2,  6. ],\n",
       "       [ 3.2,  6.6],\n",
       "       [ 3.2,  7.2],\n",
       "       [ 3.2,  7.8],\n",
       "       [ 3.4,  0. ],\n",
       "       [ 3.4,  0.6],\n",
       "       [ 3.4,  1.2],\n",
       "       [ 3.4,  1.8],\n",
       "       [ 3.4,  2.4],\n",
       "       [ 3.4,  3. ],\n",
       "       [ 3.4,  3.6],\n",
       "       [ 3.4,  4.2],\n",
       "       [ 3.4,  4.8],\n",
       "       [ 3.4,  5.4],\n",
       "       [ 3.4,  6. ],\n",
       "       [ 3.4,  6.6],\n",
       "       [ 3.4,  7.2],\n",
       "       [ 3.4,  7.8],\n",
       "       [ 3.6,  0. ],\n",
       "       [ 3.6,  0.6],\n",
       "       [ 3.6,  1.2],\n",
       "       [ 3.6,  1.8],\n",
       "       [ 3.6,  2.4],\n",
       "       [ 3.6,  3. ],\n",
       "       [ 3.6,  3.6],\n",
       "       [ 3.6,  4.2],\n",
       "       [ 3.6,  4.8],\n",
       "       [ 3.6,  5.4],\n",
       "       [ 3.6,  6. ],\n",
       "       [ 3.6,  6.6],\n",
       "       [ 3.6,  7.2],\n",
       "       [ 3.6,  7.8],\n",
       "       [ 3.8,  0. ],\n",
       "       [ 3.8,  0.6],\n",
       "       [ 3.8,  1.2],\n",
       "       [ 3.8,  1.8],\n",
       "       [ 3.8,  2.4],\n",
       "       [ 3.8,  3. ],\n",
       "       [ 3.8,  3.6],\n",
       "       [ 3.8,  4.2],\n",
       "       [ 3.8,  4.8],\n",
       "       [ 3.8,  5.4],\n",
       "       [ 3.8,  6. ],\n",
       "       [ 3.8,  6.6],\n",
       "       [ 3.8,  7.2],\n",
       "       [ 3.8,  7.8],\n",
       "       [ 4. ,  0. ],\n",
       "       [ 4. ,  0.6],\n",
       "       [ 4. ,  1.2],\n",
       "       [ 4. ,  1.8],\n",
       "       [ 4. ,  2.4],\n",
       "       [ 4. ,  3. ],\n",
       "       [ 4. ,  3.6],\n",
       "       [ 4. ,  4.2],\n",
       "       [ 4. ,  4.8],\n",
       "       [ 4. ,  5.4],\n",
       "       [ 4. ,  6. ],\n",
       "       [ 4. ,  6.6],\n",
       "       [ 4. ,  7.2],\n",
       "       [ 4. ,  7.8],\n",
       "       [ 4.2,  0. ],\n",
       "       [ 4.2,  0.6],\n",
       "       [ 4.2,  1.2],\n",
       "       [ 4.2,  1.8],\n",
       "       [ 4.2,  2.4],\n",
       "       [ 4.2,  3. ],\n",
       "       [ 4.2,  3.6],\n",
       "       [ 4.2,  4.2],\n",
       "       [ 4.2,  4.8],\n",
       "       [ 4.2,  5.4],\n",
       "       [ 4.2,  6. ],\n",
       "       [ 4.2,  6.6],\n",
       "       [ 4.2,  7.2],\n",
       "       [ 4.2,  7.8],\n",
       "       [ 4.4,  0. ],\n",
       "       [ 4.4,  0.6],\n",
       "       [ 4.4,  1.2],\n",
       "       [ 4.4,  1.8],\n",
       "       [ 4.4,  2.4],\n",
       "       [ 4.4,  3. ],\n",
       "       [ 4.4,  3.6],\n",
       "       [ 4.4,  4.2],\n",
       "       [ 4.4,  4.8],\n",
       "       [ 4.4,  5.4],\n",
       "       [ 4.4,  6. ],\n",
       "       [ 4.4,  6.6],\n",
       "       [ 4.4,  7.2],\n",
       "       [ 4.4,  7.8],\n",
       "       [ 4.6,  0. ],\n",
       "       [ 4.6,  0.6],\n",
       "       [ 4.6,  1.2],\n",
       "       [ 4.6,  1.8],\n",
       "       [ 4.6,  2.4],\n",
       "       [ 4.6,  3. ],\n",
       "       [ 4.6,  3.6],\n",
       "       [ 4.6,  4.2],\n",
       "       [ 4.6,  4.8],\n",
       "       [ 4.6,  5.4],\n",
       "       [ 4.6,  6. ],\n",
       "       [ 4.6,  6.6],\n",
       "       [ 4.6,  7.2],\n",
       "       [ 4.6,  7.8],\n",
       "       [ 4.8,  0. ],\n",
       "       [ 4.8,  0.6],\n",
       "       [ 4.8,  1.2],\n",
       "       [ 4.8,  1.8],\n",
       "       [ 4.8,  2.4],\n",
       "       [ 4.8,  3. ],\n",
       "       [ 4.8,  3.6],\n",
       "       [ 4.8,  4.2],\n",
       "       [ 4.8,  4.8],\n",
       "       [ 4.8,  5.4],\n",
       "       [ 4.8,  6. ],\n",
       "       [ 4.8,  6.6],\n",
       "       [ 4.8,  7.2],\n",
       "       [ 4.8,  7.8]])"
      ]
     },
     "execution_count": 90,
     "metadata": {},
     "output_type": "execute_result"
    }
   ],
   "source": [
    "gd"
   ]
  },
  {
   "cell_type": "code",
   "execution_count": null,
   "metadata": {
    "collapsed": true
   },
   "outputs": [],
   "source": []
  },
  {
   "cell_type": "code",
   "execution_count": 93,
   "metadata": {
    "collapsed": true
   },
   "outputs": [],
   "source": [
    "gcd = clf.predict(gd)"
   ]
  },
  {
   "cell_type": "code",
   "execution_count": 94,
   "metadata": {
    "collapsed": false
   },
   "outputs": [
    {
     "data": {
      "text/plain": [
       "<matplotlib.collections.PathCollection at 0x11a18ff28>"
      ]
     },
     "execution_count": 94,
     "metadata": {},
     "output_type": "execute_result"
    },
    {
     "data": {
      "image/png": "[encoded data removed]",
      "text/plain": [
       "<matplotlib.figure.Figure at 0x11a0eec50>"
      ]
     },
     "metadata": {},
     "output_type": "display_data"
    }
   ],
   "source": [
    "plt.scatter(gd[:,0],gd[:,1],s=30,c=gcd)   "
   ]
  },
  {
   "cell_type": "code",
   "execution_count": 65,
   "metadata": {
    "collapsed": true
   },
   "outputs": [],
   "source": [
    "xx, yy = np.meshgrid(np.arange(3, 8.5, 0.02), np.arange(1.5, 5.0, 0.02))\n"
   ]
  },
  {
   "cell_type": "code",
   "execution_count": 66,
   "metadata": {
    "collapsed": true
   },
   "outputs": [],
   "source": [
    "Z = clf.predict(np.c_[xx.ravel(), yy.ravel()])"
   ]
  },
  {
   "cell_type": "code",
   "execution_count": 83,
   "metadata": {
    "collapsed": false
   },
   "outputs": [
    {
     "data": {
      "text/plain": [
       "array([[0, 0, 0, ..., 2, 2, 2],\n",
       "       [0, 0, 0, ..., 2, 2, 2],\n",
       "       [0, 0, 0, ..., 2, 2, 2],\n",
       "       ..., \n",
       "       [2, 0, 0, ..., 2, 2, 2],\n",
       "       [2, 0, 0, ..., 2, 2, 2],\n",
       "       [2, 2, 0, ..., 2, 2, 2]])"
      ]
     },
     "execution_count": 83,
     "metadata": {},
     "output_type": "execute_result"
    }
   ],
   "source": [
    "Z"
   ]
  },
  {
   "cell_type": "code",
   "execution_count": 81,
   "metadata": {
    "collapsed": false
   },
   "outputs": [
    {
     "data": {
      "text/plain": [
       "<matplotlib.collections.PathCollection at 0x11961c550>"
      ]
     },
     "execution_count": 81,
     "metadata": {},
     "output_type": "execute_result"
    },
    {
     "data": {
      "image/png": "[encoded data removed]",
      "text/plain": [
       "<matplotlib.figure.Figure at 0x1193e10b8>"
      ]
     },
     "metadata": {},
     "output_type": "display_data"
    }
   ],
   "source": [
    "Z = Z.reshape(xx.shape)\n",
    "plt.contourf(xx, yy, Z, cmap=plt.cm.autumn, alpha=0.4)\n",
    "plt.scatter(x[:,0], x[:,1], s=50, c=y, cmap=plt.cm.autumn)"
   ]
  },
  {
   "cell_type": "code",
   "execution_count": 99,
   "metadata": {
    "collapsed": true
   },
   "outputs": [],
   "source": [
    "from sklearn.externals import joblib"
   ]
  },
  {
   "cell_type": "code",
   "execution_count": 96,
   "metadata": {
    "collapsed": false
   },
   "outputs": [
    {
     "data": {
      "text/plain": [
       "['擋擋擋名.pkl',\n",
       " '擋擋擋名.pkl_01.npy',\n",
       " '擋擋擋名.pkl_02.npy',\n",
       " '擋擋擋名.pkl_03.npy',\n",
       " '擋擋擋名.pkl_04.npy',\n",
       " '擋擋擋名.pkl_05.npy',\n",
       " '擋擋擋名.pkl_06.npy',\n",
       " '擋擋擋名.pkl_07.npy',\n",
       " '擋擋擋名.pkl_08.npy',\n",
       " '擋擋擋名.pkl_09.npy',\n",
       " '擋擋擋名.pkl_10.npy',\n",
       " '擋擋擋名.pkl_11.npy']"
      ]
     },
     "execution_count": 96,
     "metadata": {},
     "output_type": "execute_result"
    }
   ],
   "source": [
    "joblib.dump(clf,\"擋擋擋名.pkl\")"
   ]
  },
  {
   "cell_type": "code",
   "execution_count": 98,
   "metadata": {
    "collapsed": false
   },
   "outputs": [
    {
     "ename": "TypeError",
     "evalue": "'Bunch' object is not callable",
     "output_type": "error",
     "traceback": [
      "\u001b[0;31m---------------------------------------------------------------------------\u001b[0m",
      "\u001b[0;31mTypeError\u001b[0m                                 Traceback (most recent call last)",
      "\u001b[0;32m<ipython-input-98-aff3fc84cad2>\u001b[0m in \u001b[0;36m<module>\u001b[0;34m()\u001b[0m\n\u001b[0;32m----> 1\u001b[0;31m \u001b[0mclf\u001b[0m \u001b[0;34m=\u001b[0m \u001b[0mjoblib\u001b[0m\u001b[0;34m,\u001b[0m\u001b[0mload\u001b[0m\u001b[0;34m(\u001b[0m\u001b[0;34m\"擋擋擋名.pkl\"\u001b[0m\u001b[0;34m)\u001b[0m\u001b[0;34m\u001b[0m\u001b[0m\n\u001b[0m",
      "\u001b[0;31mTypeError\u001b[0m: 'Bunch' object is not callable"
     ]
    }
   ],
   "source": [
    "clf = joblib,load(\"擋擋擋名.pkl\")"
   ]
  },
  {
   "cell_type": "code",
   "execution_count": null,
   "metadata": {
    "collapsed": true
   },
   "outputs": [],
   "source": []
  }
 ],
 "metadata": {
  "kernelspec": {
   "display_name": "Python 3",
   "language": "python",
   "name": "python3"
  },
  "language_info": {
   "codemirror_mode": {
    "name": "ipython",
    "version": 3
   },
   "file_extension": ".py",
   "mimetype": "text/x-python",
   "name": "python",
   "nbconvert_exporter": "python",
   "pygments_lexer": "ipython3",
   "version": "3.5.2"
  }
 },
 "nbformat": 4,
 "nbformat_minor": 0
}
